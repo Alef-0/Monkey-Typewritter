{
 "cells": [
  {
   "cell_type": "markdown",
   "metadata": {},
   "source": [
    "# Inicial"
   ]
  },
  {
   "cell_type": "code",
   "execution_count": 2,
   "metadata": {},
   "outputs": [],
   "source": [
    "import google.generativeai as genai\n",
    "import libs.constants as cnsts\n",
    "\n",
    "from langchain_google_genai import ChatGoogleGenerativeAI, GoogleGenerativeAI, GoogleGenerativeAIEmbeddings\n",
    "from langchain_openai import OpenAI, ChatOpenAI\n",
    "\n",
    "from langchain_core.prompts import ChatPromptTemplate\n",
    "from langchain_core.output_parsers import StrOutputParser"
   ]
  },
  {
   "cell_type": "code",
   "execution_count": 4,
   "metadata": {},
   "outputs": [],
   "source": [
    "gchat = ChatGoogleGenerativeAI( # Modelo de chat\n",
    "    model=cnsts.GEMINI,\n",
    "    max_output_tokens=8192,\n",
    "    google_api_key=cnsts.GEMINI_KEY,\n",
    "    safety_settings = cnsts.SAFETY_GEMINI,\n",
    "    convert_system_message_to_human=True\n",
    ")\n",
    "gllm = GoogleGenerativeAI(model=cnsts.GEMINI,\n",
    "    max_output_tokens=8192,\n",
    "    google_api_key=cnsts.GEMINI_KEY,\n",
    "    safety_settings = cnsts.SAFETY_GEMINI,\n",
    "    convert_system_message_to_human=True\n",
    ")"
   ]
  },
  {
   "cell_type": "code",
   "execution_count": 5,
   "metadata": {},
   "outputs": [],
   "source": [
    "ochat = ChatOpenAI(api_key=cnsts.GPT_KEY)\n",
    "ollm = OpenAI(api_key=cnsts.GPT_KEY)"
   ]
  },
  {
   "cell_type": "code",
   "execution_count": 10,
   "metadata": {},
   "outputs": [
    {
     "data": {
      "text/plain": [
       "AIMessage(content='Your first question was \"What was my first question?\"')"
      ]
     },
     "execution_count": 10,
     "metadata": {},
     "output_type": "execute_result"
    }
   ],
   "source": [
    "ochat.invoke(\"What was my first question\")"
   ]
  },
  {
   "cell_type": "code",
   "execution_count": null,
   "metadata": {},
   "outputs": [],
   "source": []
  }
 ],
 "metadata": {
  "kernelspec": {
   "display_name": "Python 3",
   "language": "python",
   "name": "python3"
  },
  "language_info": {
   "codemirror_mode": {
    "name": "ipython",
    "version": 3
   },
   "file_extension": ".py",
   "mimetype": "text/x-python",
   "name": "python",
   "nbconvert_exporter": "python",
   "pygments_lexer": "ipython3",
   "version": "3.11.6"
  }
 },
 "nbformat": 4,
 "nbformat_minor": 2
}
